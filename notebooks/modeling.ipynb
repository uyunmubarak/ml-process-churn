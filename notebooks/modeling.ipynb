{
 "cells": [
  {
   "cell_type": "code",
   "execution_count": 64,
   "metadata": {},
   "outputs": [],
   "source": [
    "import util\n",
    "from util import load_config, pickle_dump, pickle_load\n",
    "from sklearn.ensemble import RandomForestClassifier\n",
    "from sklearn.metrics import classification_report\n",
    "from sklearn.linear_model import LogisticRegression"
   ]
  },
  {
   "cell_type": "code",
   "execution_count": 34,
   "metadata": {},
   "outputs": [],
   "source": [
    "def load_dataset(config: dict):\n",
    "    x_train = pickle_load(config[\"train_clean_set_path\"][0])\n",
    "    y_train = pickle_load(config[\"train_clean_set_path\"][1])\n",
    "\n",
    "    x_valid = pickle_load(config[\"valid_clean_set_path\"][0])\n",
    "    y_valid = pickle_load(config[\"valid_clean_set_path\"][1])\n",
    "\n",
    "    x_test = pickle_load(config[\"test_clean_set_path\"][0])\n",
    "    y_test = pickle_load(config[\"test_clean_set_path\"][1])\n",
    "\n",
    "    return x_train, y_train, x_valid, y_valid, x_test, y_test"
   ]
  },
  {
   "cell_type": "code",
   "execution_count": 54,
   "metadata": {},
   "outputs": [],
   "source": [
    "def train_model(x_train, y_train, x_valid, y_valid, x_test, y_test):\n",
    "    random_forest = RandomForestClassifier(random_state=123)\n",
    "    random_forest.fit(x_train, y_train)\n",
    "    \n",
    "    y_pred_train = random_forest.predict(x_valid)\n",
    "    print(classification_report(y_valid, y_pred_train))\n",
    "    \n",
    "    y_pred_test = random_forest.predict(x_test)\n",
    "    print(classification_report(y_test, y_pred_test))\n",
    "    \n",
    "    return random_forest"
   ]
  },
  {
   "cell_type": "code",
   "execution_count": 65,
   "metadata": {},
   "outputs": [],
   "source": [
    "logreg = LogisticRegression(solver = \"liblinear\",\n",
    "                            random_state=123)"
   ]
  },
  {
   "cell_type": "code",
   "execution_count": 66,
   "metadata": {},
   "outputs": [
    {
     "data": {
      "text/plain": [
       "LogisticRegression(random_state=123, solver='liblinear')"
      ]
     },
     "execution_count": 66,
     "metadata": {},
     "output_type": "execute_result"
    }
   ],
   "source": [
    "logreg.fit(x_train, y_train)"
   ]
  },
  {
   "cell_type": "code",
   "execution_count": 67,
   "metadata": {},
   "outputs": [
    {
     "name": "stdout",
     "output_type": "stream",
     "text": [
      "              precision    recall  f1-score   support\n",
      "\n",
      "           0       0.54      0.03      0.05      2544\n",
      "           1       0.54      0.98      0.70      2997\n",
      "\n",
      "    accuracy                           0.54      5541\n",
      "   macro avg       0.54      0.50      0.38      5541\n",
      "weighted avg       0.54      0.54      0.40      5541\n",
      "\n"
     ]
    }
   ],
   "source": [
    "y_pred_valid_logreg = logreg.predict(x_valid)\n",
    "print(classification_report(y_valid, y_pred_valid_logreg))"
   ]
  },
  {
   "cell_type": "code",
   "execution_count": 69,
   "metadata": {},
   "outputs": [
    {
     "name": "stdout",
     "output_type": "stream",
     "text": [
      "              precision    recall  f1-score   support\n",
      "\n",
      "           0       0.52      0.03      0.05      2544\n",
      "           1       0.54      0.98      0.70      2999\n",
      "\n",
      "    accuracy                           0.54      5543\n",
      "   macro avg       0.53      0.50      0.38      5543\n",
      "weighted avg       0.53      0.54      0.40      5543\n",
      "\n"
     ]
    }
   ],
   "source": [
    "y_pred_test_logreg = logreg.predict(x_test)\n",
    "print(classification_report(y_test, y_pred_test_logreg))"
   ]
  },
  {
   "cell_type": "code",
   "execution_count": 59,
   "metadata": {},
   "outputs": [
    {
     "name": "stdout",
     "output_type": "stream",
     "text": [
      "              precision    recall  f1-score   support\n",
      "\n",
      "           0       0.46      0.33      0.39      2544\n",
      "           1       0.54      0.67      0.60      2997\n",
      "\n",
      "    accuracy                           0.51      5541\n",
      "   macro avg       0.50      0.50      0.49      5541\n",
      "weighted avg       0.50      0.51      0.50      5541\n",
      "\n"
     ]
    }
   ],
   "source": [
    "y_pred_valid = random_forest.predict(x_valid)\n",
    "print(classification_report(y_valid, y_pred_valid))"
   ]
  },
  {
   "cell_type": "code",
   "execution_count": 62,
   "metadata": {},
   "outputs": [
    {
     "name": "stdout",
     "output_type": "stream",
     "text": [
      "              precision    recall  f1-score   support\n",
      "\n",
      "           0       0.47      0.34      0.39      2544\n",
      "           1       0.55      0.68      0.61      2999\n",
      "\n",
      "    accuracy                           0.52      5543\n",
      "   macro avg       0.51      0.51      0.50      5543\n",
      "weighted avg       0.51      0.52      0.51      5543\n",
      "\n"
     ]
    }
   ],
   "source": [
    "y_pred_test = random_forest.predict(x_test)\n",
    "print(classification_report(y_test, y_pred_test))"
   ]
  },
  {
   "cell_type": "code",
   "execution_count": 36,
   "metadata": {},
   "outputs": [],
   "source": [
    "config = util.load_config()"
   ]
  },
  {
   "cell_type": "code",
   "execution_count": 37,
   "metadata": {},
   "outputs": [],
   "source": [
    "x_train, y_train, x_valid, y_valid, x_test, y_test = load_dataset(config)"
   ]
  },
  {
   "cell_type": "code",
   "execution_count": 38,
   "metadata": {},
   "outputs": [
    {
     "data": {
      "text/html": [
       "<div>\n",
       "<style scoped>\n",
       "    .dataframe tbody tr th:only-of-type {\n",
       "        vertical-align: middle;\n",
       "    }\n",
       "\n",
       "    .dataframe tbody tr th {\n",
       "        vertical-align: top;\n",
       "    }\n",
       "\n",
       "    .dataframe thead th {\n",
       "        text-align: right;\n",
       "    }\n",
       "</style>\n",
       "<table border=\"1\" class=\"dataframe\">\n",
       "  <thead>\n",
       "    <tr style=\"text-align: right;\">\n",
       "      <th></th>\n",
       "      <th>age</th>\n",
       "      <th>days_since_last_login</th>\n",
       "      <th>points_in_wallet</th>\n",
       "      <th>gender_F</th>\n",
       "      <th>gender_M</th>\n",
       "      <th>region_category_City</th>\n",
       "      <th>region_category_KOSONG</th>\n",
       "      <th>region_category_Town</th>\n",
       "      <th>region_category_Village</th>\n",
       "      <th>membership_category_Basic Membership</th>\n",
       "      <th>...</th>\n",
       "      <th>complaint_status_Unsolved</th>\n",
       "      <th>feedback_No reason specified</th>\n",
       "      <th>feedback_Poor Customer Service</th>\n",
       "      <th>feedback_Poor Product Quality</th>\n",
       "      <th>feedback_Poor Website</th>\n",
       "      <th>feedback_Products always in Stock</th>\n",
       "      <th>feedback_Quality Customer Care</th>\n",
       "      <th>feedback_Reasonable Price</th>\n",
       "      <th>feedback_Too many ads</th>\n",
       "      <th>feedback_User Friendly Website</th>\n",
       "    </tr>\n",
       "  </thead>\n",
       "  <tbody>\n",
       "    <tr>\n",
       "      <th>0</th>\n",
       "      <td>-1.206558</td>\n",
       "      <td>-0.512906</td>\n",
       "      <td>0.268487</td>\n",
       "      <td>-0.997489</td>\n",
       "      <td>0.997489</td>\n",
       "      <td>-0.721973</td>\n",
       "      <td>-0.414310</td>\n",
       "      <td>1.270711</td>\n",
       "      <td>-0.383816</td>\n",
       "      <td>-0.509485</td>\n",
       "      <td>...</td>\n",
       "      <td>-0.379359</td>\n",
       "      <td>-0.451308</td>\n",
       "      <td>-0.452177</td>\n",
       "      <td>-0.457319</td>\n",
       "      <td>-0.453975</td>\n",
       "      <td>-0.197244</td>\n",
       "      <td>-0.195117</td>\n",
       "      <td>-0.199666</td>\n",
       "      <td>2.234875</td>\n",
       "      <td>-0.198511</td>\n",
       "    </tr>\n",
       "    <tr>\n",
       "      <th>1</th>\n",
       "      <td>0.116142</td>\n",
       "      <td>1.698067</td>\n",
       "      <td>-2.474832</td>\n",
       "      <td>-0.997489</td>\n",
       "      <td>0.997489</td>\n",
       "      <td>-0.721973</td>\n",
       "      <td>2.413653</td>\n",
       "      <td>-0.786961</td>\n",
       "      <td>-0.383816</td>\n",
       "      <td>-0.509485</td>\n",
       "      <td>...</td>\n",
       "      <td>-0.379359</td>\n",
       "      <td>-0.451308</td>\n",
       "      <td>-0.452177</td>\n",
       "      <td>-0.457319</td>\n",
       "      <td>2.202762</td>\n",
       "      <td>-0.197244</td>\n",
       "      <td>-0.195117</td>\n",
       "      <td>-0.199666</td>\n",
       "      <td>-0.447452</td>\n",
       "      <td>-0.198511</td>\n",
       "    </tr>\n",
       "    <tr>\n",
       "      <th>2</th>\n",
       "      <td>-0.198787</td>\n",
       "      <td>-0.144410</td>\n",
       "      <td>-0.686999</td>\n",
       "      <td>1.002518</td>\n",
       "      <td>-1.002518</td>\n",
       "      <td>1.385093</td>\n",
       "      <td>-0.414310</td>\n",
       "      <td>-0.786961</td>\n",
       "      <td>-0.383816</td>\n",
       "      <td>-0.509485</td>\n",
       "      <td>...</td>\n",
       "      <td>2.636029</td>\n",
       "      <td>-0.451308</td>\n",
       "      <td>2.211524</td>\n",
       "      <td>-0.457319</td>\n",
       "      <td>-0.453975</td>\n",
       "      <td>-0.197244</td>\n",
       "      <td>-0.195117</td>\n",
       "      <td>-0.199666</td>\n",
       "      <td>-0.447452</td>\n",
       "      <td>-0.198511</td>\n",
       "    </tr>\n",
       "    <tr>\n",
       "      <th>3</th>\n",
       "      <td>1.186899</td>\n",
       "      <td>0.961076</td>\n",
       "      <td>0.144788</td>\n",
       "      <td>-0.997489</td>\n",
       "      <td>0.997489</td>\n",
       "      <td>-0.721973</td>\n",
       "      <td>-0.414310</td>\n",
       "      <td>-0.786961</td>\n",
       "      <td>2.605415</td>\n",
       "      <td>1.962766</td>\n",
       "      <td>...</td>\n",
       "      <td>-0.379359</td>\n",
       "      <td>-0.451308</td>\n",
       "      <td>-0.452177</td>\n",
       "      <td>-0.457319</td>\n",
       "      <td>-0.453975</td>\n",
       "      <td>-0.197244</td>\n",
       "      <td>-0.195117</td>\n",
       "      <td>-0.199666</td>\n",
       "      <td>2.234875</td>\n",
       "      <td>-0.198511</td>\n",
       "    </tr>\n",
       "    <tr>\n",
       "      <th>4</th>\n",
       "      <td>-0.891630</td>\n",
       "      <td>-0.512906</td>\n",
       "      <td>-0.108614</td>\n",
       "      <td>1.002518</td>\n",
       "      <td>-1.002518</td>\n",
       "      <td>-0.721973</td>\n",
       "      <td>-0.414310</td>\n",
       "      <td>-0.786961</td>\n",
       "      <td>2.605415</td>\n",
       "      <td>1.962766</td>\n",
       "      <td>...</td>\n",
       "      <td>-0.379359</td>\n",
       "      <td>-0.451308</td>\n",
       "      <td>2.211524</td>\n",
       "      <td>-0.457319</td>\n",
       "      <td>-0.453975</td>\n",
       "      <td>-0.197244</td>\n",
       "      <td>-0.195117</td>\n",
       "      <td>-0.199666</td>\n",
       "      <td>-0.447452</td>\n",
       "      <td>-0.198511</td>\n",
       "    </tr>\n",
       "  </tbody>\n",
       "</table>\n",
       "<p>5 rows × 49 columns</p>\n",
       "</div>"
      ],
      "text/plain": [
       "        age  days_since_last_login  points_in_wallet  gender_F  gender_M  \\\n",
       "0 -1.206558              -0.512906          0.268487 -0.997489  0.997489   \n",
       "1  0.116142               1.698067         -2.474832 -0.997489  0.997489   \n",
       "2 -0.198787              -0.144410         -0.686999  1.002518 -1.002518   \n",
       "3  1.186899               0.961076          0.144788 -0.997489  0.997489   \n",
       "4 -0.891630              -0.512906         -0.108614  1.002518 -1.002518   \n",
       "\n",
       "   region_category_City  region_category_KOSONG  region_category_Town  \\\n",
       "0             -0.721973               -0.414310              1.270711   \n",
       "1             -0.721973                2.413653             -0.786961   \n",
       "2              1.385093               -0.414310             -0.786961   \n",
       "3             -0.721973               -0.414310             -0.786961   \n",
       "4             -0.721973               -0.414310             -0.786961   \n",
       "\n",
       "   region_category_Village  membership_category_Basic Membership  ...  \\\n",
       "0                -0.383816                             -0.509485  ...   \n",
       "1                -0.383816                             -0.509485  ...   \n",
       "2                -0.383816                             -0.509485  ...   \n",
       "3                 2.605415                              1.962766  ...   \n",
       "4                 2.605415                              1.962766  ...   \n",
       "\n",
       "   complaint_status_Unsolved  feedback_No reason specified  \\\n",
       "0                  -0.379359                     -0.451308   \n",
       "1                  -0.379359                     -0.451308   \n",
       "2                   2.636029                     -0.451308   \n",
       "3                  -0.379359                     -0.451308   \n",
       "4                  -0.379359                     -0.451308   \n",
       "\n",
       "   feedback_Poor Customer Service  feedback_Poor Product Quality  \\\n",
       "0                       -0.452177                      -0.457319   \n",
       "1                       -0.452177                      -0.457319   \n",
       "2                        2.211524                      -0.457319   \n",
       "3                       -0.452177                      -0.457319   \n",
       "4                        2.211524                      -0.457319   \n",
       "\n",
       "   feedback_Poor Website  feedback_Products always in Stock  \\\n",
       "0              -0.453975                          -0.197244   \n",
       "1               2.202762                          -0.197244   \n",
       "2              -0.453975                          -0.197244   \n",
       "3              -0.453975                          -0.197244   \n",
       "4              -0.453975                          -0.197244   \n",
       "\n",
       "   feedback_Quality Customer Care  feedback_Reasonable Price  \\\n",
       "0                       -0.195117                  -0.199666   \n",
       "1                       -0.195117                  -0.199666   \n",
       "2                       -0.195117                  -0.199666   \n",
       "3                       -0.195117                  -0.199666   \n",
       "4                       -0.195117                  -0.199666   \n",
       "\n",
       "   feedback_Too many ads  feedback_User Friendly Website  \n",
       "0               2.234875                       -0.198511  \n",
       "1              -0.447452                       -0.198511  \n",
       "2              -0.447452                       -0.198511  \n",
       "3               2.234875                       -0.198511  \n",
       "4              -0.447452                       -0.198511  \n",
       "\n",
       "[5 rows x 49 columns]"
      ]
     },
     "execution_count": 38,
     "metadata": {},
     "output_type": "execute_result"
    }
   ],
   "source": [
    "x_train.head()"
   ]
  },
  {
   "cell_type": "code",
   "execution_count": 39,
   "metadata": {},
   "outputs": [
    {
     "data": {
      "text/plain": [
       "((25849, 49), (25849,), (5541, 49), (5541,), (5543, 49), (5543,))"
      ]
     },
     "execution_count": 39,
     "metadata": {},
     "output_type": "execute_result"
    }
   ],
   "source": [
    "x_train.shape, y_train.shape, x_valid.shape, y_valid.shape, x_test.shape, y_test.shape"
   ]
  },
  {
   "cell_type": "code",
   "execution_count": 40,
   "metadata": {},
   "outputs": [
    {
     "name": "stdout",
     "output_type": "stream",
     "text": [
      "              precision    recall  f1-score   support\n",
      "\n",
      "           0       1.00      0.00      0.00      2544\n",
      "           1       0.54      1.00      0.70      2997\n",
      "\n",
      "    accuracy                           0.54      5541\n",
      "   macro avg       0.77      0.50      0.35      5541\n",
      "weighted avg       0.75      0.54      0.38      5541\n",
      "\n",
      "              precision    recall  f1-score   support\n",
      "\n",
      "           0       0.00      0.00      0.00      2544\n",
      "           1       0.54      1.00      0.70      2999\n",
      "\n",
      "    accuracy                           0.54      5543\n",
      "   macro avg       0.27      0.50      0.35      5543\n",
      "weighted avg       0.29      0.54      0.38      5543\n",
      "\n"
     ]
    }
   ],
   "source": [
    "random_forest = train_model(x_train, y_train, x_valid, y_valid, x_test, y_test)"
   ]
  },
  {
   "cell_type": "code",
   "execution_count": 31,
   "metadata": {},
   "outputs": [
    {
     "data": {
      "text/plain": [
       "['../models/production_model.pkl']"
      ]
     },
     "execution_count": 31,
     "metadata": {},
     "output_type": "execute_result"
    }
   ],
   "source": [
    "util.pickle_dump(random_forest, config[\"production_model_path\"])"
   ]
  },
  {
   "cell_type": "code",
   "execution_count": null,
   "metadata": {},
   "outputs": [],
   "source": []
  }
 ],
 "metadata": {
  "kernelspec": {
   "display_name": "Python 3 (ipykernel)",
   "language": "python",
   "name": "python3"
  },
  "language_info": {
   "codemirror_mode": {
    "name": "ipython",
    "version": 3
   },
   "file_extension": ".py",
   "mimetype": "text/x-python",
   "name": "python",
   "nbconvert_exporter": "python",
   "pygments_lexer": "ipython3",
   "version": "3.9.13"
  },
  "vscode": {
   "interpreter": {
    "hash": "54f9af6ddc79b051e9128ce8cb2638e61b0d4a26341234aa239af9f1ff0e14b4"
   }
  }
 },
 "nbformat": 4,
 "nbformat_minor": 2
}
